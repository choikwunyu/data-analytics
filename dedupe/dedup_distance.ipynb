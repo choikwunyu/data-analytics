{
 "cells": [
  {
   "cell_type": "code",
   "execution_count": 44,
   "metadata": {},
   "outputs": [],
   "source": [
    "import numpy as np\n",
    "import pandas as pd\n",
    "\n",
    "%matplotlib inline"
   ]
  },
  {
   "cell_type": "code",
   "execution_count": 45,
   "metadata": {},
   "outputs": [],
   "source": [
    "def Distances(x,y):\n",
    "   \"\"\"\n",
    "   Compute the distance matrix for vector x and y\n",
    "   Args:\n",
    "    x:vector value for uploadid x \n",
    "    y:vector value for uploadid y\n",
    "   Returns:\n",
    "     distances: distance matrix of x and y\n",
    "   \"\"\"\n",
    "   if len(y) > len(x):\n",
    "      leny = len(y)\n",
    "      lenx = len(x)\n",
    "      xval = x\n",
    "      yval = y\n",
    "   elif len(x) > len(y):\n",
    "      leny = len(x)\n",
    "      lenx = len(y)\n",
    "      xval = y\n",
    "      yval = x\n",
    "   elif len(y) == len(x):\n",
    "      lenx = len(x)\n",
    "      leny = len(y)\n",
    "      xval = x\n",
    "      yval = y\n",
    "   distances= [[0] * lenx for i in range(leny)]\n",
    "   for i in range(leny):  \n",
    "     for j in range(lenx):   \n",
    "         distances[i][j] = ((xval[j])-(yval[i]))**2\n",
    "   return distances"
   ]
  },
  {
   "cell_type": "code",
   "execution_count": 46,
   "metadata": {},
   "outputs": [],
   "source": [
    "def DiagonalList(dis):\n",
    "   \"\"\"\n",
    "   Find the diagonal with the highest count of zero and the diagonal start index\n",
    "   Args:\n",
    "    dis: distance matrix\n",
    "   Returns:\n",
    "     diagonal: diagonal with higest count of zero\n",
    "     diagonalStartIndex:Start Index of diagonal\n",
    "   \"\"\"\n",
    "   matrix=np.array(dis)\n",
    "   j=-len(dis)\n",
    "   x=len(dis[0])+1\n",
    "   highestCount=0\n",
    "   for i in range(len(dis[0])-1,j,-1): \n",
    "       arr = matrix.diagonal(i)\n",
    "       countZero = (arr == 0).sum()\n",
    "       if countZero >= highestCount:\n",
    "          highestCount = countZero\n",
    "          diagonal=arr\n",
    "          diagonalStartIndex=abs(i)\n",
    "   return (diagonal,diagonalStartIndex)"
   ]
  },
  {
   "cell_type": "code",
   "execution_count": 47,
   "metadata": {},
   "outputs": [],
   "source": [
    "def DiagonalZero(disMatrix,ts1,ts2,startindex):\n",
    "   \"\"\"\n",
    "   Compute the diagonal Index with the highest count of zero (output from DiagonalList)\n",
    "   Args:\n",
    "    disMatrix: distance matrix\n",
    "    ts1:Vector 1\n",
    "    ts2:vector 2\n",
    "    startindex: the start index for the diagonal\n",
    "   Returns:\n",
    "     dia.Index: diagonal Index\n",
    "     dia.value: diagonal value\n",
    "   \"\"\"\n",
    "   diaIndex=[]\n",
    "   diaValue=[]\n",
    "   if len(ts2) > len(ts1):\n",
    "      leny = len(ts2)\n",
    "      j = len(ts1)-1\n",
    "   elif len(ts1) > len(ts2):\n",
    "      leny = len(ts1)\n",
    "      j = len(ts2)-1\n",
    "   elif len(ts1) == len(ts2):\n",
    "      lenx = len(ts1)\n",
    "      leny = len(ts2)\n",
    "      j = len(ts1)-1\n",
    "   i = startindex\n",
    "   k = 0\n",
    "   while i < leny and k <= j:\n",
    "       if disMatrix[i][k] >= 0:\n",
    "          diaIndex += [[i,k]]\n",
    "          diaValue += [disMatrix[i][k]]  \n",
    "          k = k+1\n",
    "          i = i+1  \n",
    "   return (diaIndex,diaValue)"
   ]
  },
  {
   "cell_type": "code",
   "execution_count": 48,
   "metadata": {},
   "outputs": [],
   "source": [
    "def zero_runs(diaValue): #https://stackoverflow.com/questions/24885092/finding-the-consecutive-zeros-in-a-numpy-array\n",
    "   \"\"\"\n",
    "   Args:\n",
    "   diaValue: diagonal values returned from function diagonalzero\n",
    "   Returns:\n",
    "    ranges: list of consecutive zero ranges in the diagonal\n",
    "   \"\"\"\n",
    "   iszero = np.concatenate(([0], np.equal(diaValue, 0).view(np.int8), [0]))\n",
    "   absdiff = np.abs(np.diff(iszero))\n",
    "   ranges = np.where(absdiff == 1)[0].reshape(-1, 2)\n",
    "   return ranges"
   ]
  },
  {
   "cell_type": "code",
   "execution_count": 49,
   "metadata": {},
   "outputs": [],
   "source": [
    "def CountZero(runs):\n",
    "   \"\"\"\n",
    "   Args:\n",
    "    runs: list of start and stop index of the consecutive zeros in an array\n",
    "   Returns:\n",
    "    totalCount:returns the count of consecutive zero\n",
    "    countIndex:list index with max zeros\n",
    "   \"\"\"\n",
    "   maxcount=0\n",
    "   for i in  range(len(runs)):\n",
    "        count=runs[i][1]-runs[i][0]\n",
    "        if count>=maxcount:\n",
    "            maxcount=count\n",
    "            countIndex=i\n",
    "   totalCount=maxcount\n",
    "   return (totalCount,countIndex)"
   ]
  },
  {
   "cell_type": "code",
   "execution_count": 50,
   "metadata": {},
   "outputs": [],
   "source": [
    "def ZeroIndex(runs,dia,runindex):\n",
    "    \"\"\"\n",
    "   #accumulate indexes  \n",
    "    Args:\n",
    "      dia:diagonal indexes returned from function DiagonalZero\n",
    "      runs:start and stop indexes\n",
    "   Results:\n",
    "     indexlst: list of indexes\n",
    "    \"\"\"\n",
    "    i=runs[0]\n",
    "    j=runs[1]\n",
    "    indexlst=[]\n",
    "    for i in range(i,j):\n",
    "       indexlst+=[dia[i]]\n",
    "    return indexlst"
   ]
  },
  {
   "cell_type": "code",
   "execution_count": 51,
   "metadata": {},
   "outputs": [],
   "source": [
    "def DupIndex(x,y,indexzero):\n",
    "    \"\"\"\n",
    "    Args:\n",
    "    x & y : vectors\n",
    "    indexzero:Output from function zeroindex\n",
    "    Result:\n",
    "     xindex& yindex:matrix indexes for vector x and y\n",
    "     ts1dup &ts2dup: duplicated values\n",
    "    \"\"\"\n",
    "    yvalue=[]\n",
    "    xvalue=[]\n",
    "    xdup=[]\n",
    "    ydup=[]\n",
    "    if len(y)>len(x):\n",
    "       yval=y\n",
    "       xval=x\n",
    "    elif len(x)>len(y):\n",
    "      xval=y\n",
    "      yval=x\n",
    "    elif len(y)==len(x):\n",
    "      xval=x\n",
    "      yval=y\n",
    "    for i in range(len(indexzero)):\n",
    "       yvalue+=[indexzero[i][0]]\n",
    "    yindex=yvalue\n",
    "    for i in range(len(indexzero)):\n",
    "       xvalue+=[indexzero[i][1]]\n",
    "    xindex=xvalue\n",
    "    for i in range(len(xindex)):\n",
    "        val=xindex[i]\n",
    "        xdup+=[xval[val]] \n",
    "    ts1dup=xdup\n",
    "    ts1dup.reverse()\n",
    "    for i in range(len(yindex)):\n",
    "        val=yindex[i]\n",
    "        ydup+=[yval[val]]\n",
    "    ts2dup=ydup\n",
    "    ts2dup.reverse()\n",
    "    return(xindex,yindex,ts1dup,ts2dup)"
   ]
  },
  {
   "cell_type": "code",
   "execution_count": 52,
   "metadata": {},
   "outputs": [],
   "source": [
    "def lookupdict(x):\n",
    "   \"\"\"\n",
    "   Args:\n",
    "     x: vector\n",
    "   Returns:\n",
    "     indexDict: a dictionary holding the original indexes of vector\n",
    "   \"\"\"\n",
    "   indexDict={}\n",
    "   for i in range(len(x)):\n",
    "       indexDict[i]=x[i]\n",
    "   return indexDict"
   ]
  },
  {
   "cell_type": "code",
   "execution_count": 53,
   "metadata": {},
   "outputs": [],
   "source": [
    "def ExtracteIndex(xDict,yDict,xIndex,yIndex):\n",
    "   \"\"\"\n",
    "   Args:\n",
    "      xDict & yDict: dictionary from function lookupdict\n",
    "      xIndex $ yIndex: line up indexes\n",
    "   Returns:\n",
    "    xIndexList,yIndexList: a list of original duplicate indexes\n",
    "   \"\"\"\n",
    "   xIndexList=[]\n",
    "   yIndexList=[]\n",
    "   if len(yIndex) > len(xIndex):\n",
    "      y=yIndex\n",
    "      x=xIndex\n",
    "   elif len(xIndex)>len(yIndex):\n",
    "      y=xIndex\n",
    "      x=yIndex\n",
    "     # x.Dict=x\n",
    "   elif len(xIndex)==len(yIndex):\n",
    "      y=yIndex\n",
    "      x=xIndex\n",
    "   if len(yDict)>len(xDict):\n",
    "      xdict=xDict\n",
    "      ydict=yDict\n",
    "   elif len(xDict)> len(yDict):\n",
    "       xdict=yDict\n",
    "       ydict=xDict\n",
    "   elif len(xDict)==len(yDict):\n",
    "      xdict=xDict\n",
    "      ydict=yDict\n",
    "   for i in xIndex:\n",
    "        xIndexList+=[xdict[i]]\n",
    "   for i in yIndex:\n",
    "        yIndexList+=[ydict[i]]\n",
    "   xIndexList.reverse()\n",
    "   yIndexList.reverse()\n",
    "   return (xIndexList,yIndexList)"
   ]
  },
  {
   "cell_type": "code",
   "execution_count": 54,
   "metadata": {},
   "outputs": [],
   "source": [
    "import time\n",
    "start_time = time.time()"
   ]
  },
  {
   "cell_type": "code",
   "execution_count": 60,
   "metadata": {},
   "outputs": [],
   "source": [
    "data = pd.read_csv(\"/Users/BlauBear/Documents/Tidepool/data-analytics/dedupe/data/0ab293f2e1cc4141cd10bfbd5d51664992b1c63c79ac45e548417154e4ecde43.csv\",delimiter=',')\n",
    "unique_ids = data['uploadId'].unique()\n",
    "for i in unique_ids:\n",
    "    i = data.loc[data['uploadId'] == i, ['time','value']]\n",
    "# df1 = data.loc[data['uploadId'] == unique_ids[1], ['time','value']]\n",
    "# df2 = data.loc[data['uploadId'] == unique_ids[2], ['time','value']]"
   ]
  },
  {
   "cell_type": "code",
   "execution_count": 34,
   "metadata": {},
   "outputs": [
    {
     "name": "stdout",
     "output_type": "stream",
     "text": [
      "--------------vector one and two--------------------------\n"
     ]
    }
   ],
   "source": [
    "# creating array of values \n",
    "ts1=np.array(df1['value'])\n",
    "ts2=np.array(df2['value'])"
   ]
  },
  {
   "cell_type": "code",
   "execution_count": 62,
   "metadata": {},
   "outputs": [
    {
     "name": "stdout",
     "output_type": "stream",
     "text": [
      "--------------original index for vector one and two--------------------------------------\n",
      "-----------------\n",
      "Int64Index([4964, 4965, 4966, 4967, 4968, 4969, 4970, 4971, 4972, 4973,\n",
      "            ...\n",
      "            5265, 5266, 5267, 5268, 5269, 5270, 5271, 5272, 5273, 5274],\n",
      "           dtype='int64', length=311)\n"
     ]
    }
   ],
   "source": [
    "print (\"--------------original index for vector one and two--------------------------------------\")\n",
    "ts1index= df1.index\n",
    "print (\"-----------------\")\n",
    "print (ts1index)"
   ]
  },
  {
   "cell_type": "code",
   "execution_count": 36,
   "metadata": {},
   "outputs": [
    {
     "name": "stdout",
     "output_type": "stream",
     "text": [
      "--------------------distance matrix---------------------\n",
      "----------------list of diagonals ---------------------------------------------\n",
      "86\n"
     ]
    }
   ],
   "source": [
    "ts2index=df2.index\n",
    "#print ts2index\n",
    "\n",
    "print (\"--------------------distance matrix---------------------\")\n",
    "dis = Distances(ts1,ts2)\n",
    "# print (dis)\n",
    "\n",
    "print (\"----------------list of diagonals ---------------------------------------------\")\n",
    "arr,index=DiagonalList(dis)\n",
    "startindex=index\n",
    "zeroarr=arr\n",
    "print (startindex)\n",
    "# print (zeroarr)"
   ]
  },
  {
   "cell_type": "code",
   "execution_count": 37,
   "metadata": {},
   "outputs": [
    {
     "name": "stdout",
     "output_type": "stream",
     "text": [
      "---------------diagonal index with zero---------------------------------------\n"
     ]
    }
   ],
   "source": [
    "print (\"---------------diagonal index with zero---------------------------------------\")\n",
    "diaindex,diaval= DiagonalZero(dis,ts1,ts2,startindex)\n",
    "diavals=diaval\n",
    "diaindexes=diaindex\n",
    "#print diavals\n",
    "#print diaindexes9"
   ]
  },
  {
   "cell_type": "code",
   "execution_count": 38,
   "metadata": {},
   "outputs": [
    {
     "name": "stdout",
     "output_type": "stream",
     "text": [
      "---list of indexes---\n",
      "[[  0   1]\n",
      " [ 26  28]\n",
      " [ 51  52]\n",
      " [115 116]]\n"
     ]
    }
   ],
   "source": [
    "runs=zero_runs(diavals)\n",
    "\n",
    "print (\"---list of indexes---\")\n",
    "print (runs)"
   ]
  },
  {
   "cell_type": "code",
   "execution_count": 39,
   "metadata": {},
   "outputs": [
    {
     "name": "stdout",
     "output_type": "stream",
     "text": [
      "----maximum count of zero-------------------------------------\n",
      "*******************\n",
      "[9.38076410486695, 9.269749145046038]\n",
      "-----------------------dup1------------------------------------------------------\n",
      "[9.38076410486695, 9.269749145046038]\n"
     ]
    }
   ],
   "source": [
    "print (\"----maximum count of zero-------------------------------------\")\n",
    "sumzero,i=CountZero(runs)\n",
    "sumindex=i\n",
    "#print sumindex\n",
    "maxruns=runs[sumindex]\n",
    "#print maxruns\n",
    "zeroruns=sumzero\n",
    "#print zeroruns\n",
    "print (\"*******************\")\n",
    "######\n",
    "diazero=ZeroIndex(maxruns,diaindexes,sumindex)\n",
    "####\n",
    "\n",
    "xindex2,yindex2,ts1value,ts2value=DupIndex(ts1,ts2,diazero)\n",
    "######\n",
    "xindex=xindex2\n",
    "yindex=yindex2\n",
    "duplicatedts1=ts1value\n",
    "duplicatedts2=ts2value\n",
    "\n",
    "print (duplicatedts1)\n",
    "print (\"-----------------------dup1------------------------------------------------------\")\n",
    "print (duplicatedts2)"
   ]
  },
  {
   "cell_type": "code",
   "execution_count": 43,
   "metadata": {},
   "outputs": [
    {
     "name": "stdout",
     "output_type": "stream",
     "text": [
      "-----------dictionary for original index--------------------------------------------------\n",
      "{0: 4964, 1: 4965, 2: 4966, 3: 4967, 4: 4968, 5: 4969, 6: 4970, 7: 4971, 8: 4972, 9: 4973, 10: 4974, 11: 4975, 12: 4976, 13: 4977, 14: 4978, 15: 4979, 16: 4980, 17: 4981, 18: 4982, 19: 4983, 20: 4984, 21: 4985, 22: 4986, 23: 4987, 24: 4988, 25: 4989, 26: 4990, 27: 4991, 28: 4992, 29: 4993, 30: 4994, 31: 4995, 32: 4996, 33: 4997, 34: 4998, 35: 4999, 36: 5000, 37: 5001, 38: 5002, 39: 5003, 40: 5004, 41: 5005, 42: 5006, 43: 5007, 44: 5008, 45: 5009, 46: 5010, 47: 5011, 48: 5012, 49: 5013, 50: 5014, 51: 5015, 52: 5016, 53: 5017, 54: 5018, 55: 5019, 56: 5020, 57: 5021, 58: 5022, 59: 5023, 60: 5024, 61: 5025, 62: 5026, 63: 5027, 64: 5028, 65: 5029, 66: 5030, 67: 5031, 68: 5032, 69: 5033, 70: 5034, 71: 5035, 72: 5036, 73: 5037, 74: 5038, 75: 5039, 76: 5040, 77: 5041, 78: 5042, 79: 5043, 80: 5044, 81: 5045, 82: 5046, 83: 5047, 84: 5048, 85: 5049, 86: 5050, 87: 5051, 88: 5052, 89: 5053, 90: 5054, 91: 5055, 92: 5056, 93: 5057, 94: 5058, 95: 5059, 96: 5060, 97: 5061, 98: 5062, 99: 5063, 100: 5064, 101: 5065, 102: 5066, 103: 5067, 104: 5068, 105: 5069, 106: 5070, 107: 5071, 108: 5072, 109: 5073, 110: 5074, 111: 5075, 112: 5076, 113: 5077, 114: 5078, 115: 5079, 116: 5080, 117: 5081, 118: 5082, 119: 5083, 120: 5084, 121: 5085, 122: 5086, 123: 5087, 124: 5088, 125: 5089, 126: 5090, 127: 5091, 128: 5092, 129: 5093, 130: 5094, 131: 5095, 132: 5096, 133: 5097, 134: 5098, 135: 5099, 136: 5100, 137: 5101, 138: 5102, 139: 5103, 140: 5104, 141: 5105, 142: 5106, 143: 5107, 144: 5108, 145: 5109, 146: 5110, 147: 5111, 148: 5112, 149: 5113, 150: 5114, 151: 5115, 152: 5116, 153: 5117, 154: 5118, 155: 5119, 156: 5120, 157: 5121, 158: 5122, 159: 5123, 160: 5124, 161: 5125, 162: 5126, 163: 5127, 164: 5128, 165: 5129, 166: 5130, 167: 5131, 168: 5132, 169: 5133, 170: 5134, 171: 5135, 172: 5136, 173: 5137, 174: 5138, 175: 5139, 176: 5140, 177: 5141, 178: 5142, 179: 5143, 180: 5144, 181: 5145, 182: 5146, 183: 5147, 184: 5148, 185: 5149, 186: 5150, 187: 5151, 188: 5152, 189: 5153, 190: 5154, 191: 5155, 192: 5156, 193: 5157, 194: 5158, 195: 5159, 196: 5160, 197: 5161, 198: 5162, 199: 5163, 200: 5164, 201: 5165, 202: 5166, 203: 5167, 204: 5168, 205: 5169, 206: 5170, 207: 5171, 208: 5172, 209: 5173, 210: 5174, 211: 5175, 212: 5176, 213: 5177, 214: 5178, 215: 5179, 216: 5180, 217: 5181, 218: 5182, 219: 5183, 220: 5184, 221: 5185, 222: 5186, 223: 5187, 224: 5188, 225: 5189, 226: 5190, 227: 5191, 228: 5192, 229: 5193, 230: 5194, 231: 5195, 232: 5196, 233: 5197, 234: 5198, 235: 5199, 236: 5200, 237: 5201, 238: 5202, 239: 5203, 240: 5204, 241: 5205, 242: 5206, 243: 5207, 244: 5208, 245: 5209, 246: 5210, 247: 5211, 248: 5212, 249: 5213, 250: 5214, 251: 5215, 252: 5216, 253: 5217, 254: 5218, 255: 5219, 256: 5220, 257: 5221, 258: 5222, 259: 5223, 260: 5224, 261: 5225, 262: 5226, 263: 5227, 264: 5228, 265: 5229, 266: 5230, 267: 5231, 268: 5232, 269: 5233, 270: 5234, 271: 5235, 272: 5236, 273: 5237, 274: 5238, 275: 5239, 276: 5240, 277: 5241, 278: 5242, 279: 5243, 280: 5244, 281: 5245, 282: 5246, 283: 5247, 284: 5248, 285: 5249, 286: 5250, 287: 5251, 288: 5252, 289: 5253, 290: 5254, 291: 5255, 292: 5256, 293: 5257, 294: 5258, 295: 5259, 296: 5260, 297: 5261, 298: 5262, 299: 5263, 300: 5264, 301: 5265, 302: 5266, 303: 5267, 304: 5268, 305: 5269, 306: 5270, 307: 5271, 308: 5272, 309: 5273, 310: 5274}\n",
      "{0: 5275, 1: 5276, 2: 5277, 3: 5278, 4: 5279, 5: 5280, 6: 5281, 7: 5282, 8: 5283, 9: 5284, 10: 5285, 11: 5286, 12: 5287, 13: 5288, 14: 5289, 15: 5290, 16: 5291, 17: 5292, 18: 5293, 19: 5294, 20: 5295, 21: 5296, 22: 5297, 23: 5298, 24: 5299, 25: 5300, 26: 5301, 27: 5302, 28: 5303, 29: 5304, 30: 5305, 31: 5306, 32: 5307, 33: 5308, 34: 5309, 35: 5310, 36: 5311, 37: 5312, 38: 5313, 39: 5314, 40: 5315, 41: 5316, 42: 5317, 43: 5318, 44: 5319, 45: 5320, 46: 5321, 47: 5322, 48: 5323, 49: 5324, 50: 5325, 51: 5326, 52: 5327, 53: 5328, 54: 5329, 55: 5330, 56: 5331, 57: 5332, 58: 5333, 59: 5334, 60: 5335, 61: 5336, 62: 5337, 63: 5338, 64: 5339, 65: 5340, 66: 5341, 67: 5342, 68: 5343, 69: 5344, 70: 5345, 71: 5346, 72: 5347, 73: 5348, 74: 5349, 75: 5350, 76: 5351, 77: 5352, 78: 5353, 79: 5354, 80: 5355, 81: 5356, 82: 5357, 83: 5358, 84: 5359, 85: 5360, 86: 5361, 87: 5362, 88: 5363, 89: 5364, 90: 5365, 91: 5366, 92: 5367, 93: 5368, 94: 5369, 95: 5370, 96: 5371, 97: 5372, 98: 5373, 99: 5374, 100: 5375, 101: 5376, 102: 5377, 103: 5378, 104: 5379, 105: 5380, 106: 5381, 107: 5382, 108: 5383, 109: 5384, 110: 5385, 111: 5386, 112: 5387, 113: 5388, 114: 5389, 115: 5390, 116: 5391, 117: 5392, 118: 5393, 119: 5394, 120: 5395, 121: 5396, 122: 5397, 123: 5398, 124: 5399, 125: 5400, 126: 5401, 127: 5402, 128: 5403, 129: 5404, 130: 5405, 131: 5406, 132: 5407, 133: 5408, 134: 5409, 135: 5410, 136: 5411, 137: 5412, 138: 5413, 139: 5414, 140: 5415, 141: 5416, 142: 5417, 143: 5418, 144: 5419, 145: 5420, 146: 5421, 147: 5422, 148: 5423, 149: 5424, 150: 5425, 151: 5426, 152: 5427, 153: 5428, 154: 5429, 155: 5430, 156: 5431, 157: 5432, 158: 5433, 159: 5434, 160: 5435, 161: 5436, 162: 5437, 163: 5438, 164: 5439, 165: 5440, 166: 5441, 167: 5442, 168: 5443, 169: 5444, 170: 5445, 171: 5446, 172: 5447, 173: 5448, 174: 5449, 175: 5450, 176: 5451, 177: 5452, 178: 5453, 179: 5454, 180: 5455, 181: 5456, 182: 5457, 183: 5458, 184: 5459, 185: 5460, 186: 5461, 187: 5462, 188: 5463, 189: 5464, 190: 5465, 191: 5466, 192: 5467, 193: 5468, 194: 5469, 195: 5470, 196: 5471, 197: 5472, 198: 5473, 199: 5474, 200: 5475, 201: 5476, 202: 5477, 203: 5478, 204: 5479, 205: 5480, 206: 5481, 207: 5482, 208: 5483, 209: 5484, 210: 5485, 211: 5486, 212: 5487, 213: 5488, 214: 5489, 215: 5490, 216: 5491, 217: 5492, 218: 5493, 219: 5494, 220: 5495, 221: 5496, 222: 5497, 223: 5498, 224: 5499, 225: 5500, 226: 5501, 227: 5502, 228: 5503, 229: 5504, 230: 5505, 231: 5506, 232: 5507, 233: 5508, 234: 5509, 235: 5510, 236: 5511, 237: 5512, 238: 5513, 239: 5514, 240: 5515, 241: 5516, 242: 5517, 243: 5518, 244: 5519, 245: 5520, 246: 5521, 247: 5522, 248: 5523, 249: 5524, 250: 5525, 251: 5526, 252: 5527, 253: 5528, 254: 5529, 255: 5530, 256: 5531, 257: 5532, 258: 5533, 259: 5534, 260: 5535, 261: 5536, 262: 5537, 263: 5538, 264: 5539, 265: 5540, 266: 5541, 267: 5542, 268: 5543, 269: 5544, 270: 5545, 271: 5546, 272: 5547, 273: 5548, 274: 5549, 275: 5550, 276: 5551, 277: 5552, 278: 5553, 279: 5554, 280: 5555, 281: 5556, 282: 5557, 283: 5558, 284: 5559, 285: 5560, 286: 5561, 287: 5562, 288: 5563, 289: 5564, 290: 5565, 291: 5566, 292: 5567, 293: 5568, 294: 5569, 295: 5570}\n"
     ]
    }
   ],
   "source": [
    "print (\"-----------dictionary for original index--------------------------------------------------\")  \n",
    "originalindexts1=lookupdict(ts1index)\n",
    "originalindexts2=lookupdict(ts2index)"
   ]
  },
  {
   "cell_type": "code",
   "execution_count": 41,
   "metadata": {},
   "outputs": [
    {
     "name": "stdout",
     "output_type": "stream",
     "text": [
      "--------------match to original index-------------------------\n",
      "([5302, 5301], [5077, 5076])\n",
      "4.014014005661011 seconds\n"
     ]
    }
   ],
   "source": [
    "print (\"--------------match to original index-------------------------\")\n",
    "print (ExtracteIndex(originalindexts1,originalindexts2,xindex,yindex)) \n",
    "\n",
    "print (time.time() - start_time, \"seconds\")"
   ]
  },
  {
   "cell_type": "code",
   "execution_count": 42,
   "metadata": {},
   "outputs": [
    {
     "data": {
      "image/png": "[encoded data removed]",
      "text/plain": [
       "<Figure size 432x288 with 2 Axes>"
      ]
     },
     "metadata": {
      "needs_background": "light"
     },
     "output_type": "display_data"
    }
   ],
   "source": [
    "##\n",
    "import matplotlib.pyplot as plt\n",
    "plt.subplot(2, 1, 1)\n",
    "plt.plot(duplicatedts1,'r-')\n",
    "plt.ylabel('vector x')\n",
    "plt.subplot(2, 1, 2)\n",
    "plt.plot(duplicatedts2)\n",
    "plt.ylabel('vector y')\n",
    "\n",
    "plt.show()"
   ]
  },
  {
   "cell_type": "code",
   "execution_count": null,
   "metadata": {},
   "outputs": [],
   "source": []
  },
  {
   "cell_type": "code",
   "execution_count": null,
   "metadata": {},
   "outputs": [],
   "source": []
  },
  {
   "cell_type": "code",
   "execution_count": null,
   "metadata": {},
   "outputs": [],
   "source": []
  },
  {
   "cell_type": "code",
   "execution_count": null,
   "metadata": {},
   "outputs": [],
   "source": []
  }
 ],
 "metadata": {
  "kernelspec": {
   "display_name": "Python 3",
   "language": "python",
   "name": "python3"
  },
  "language_info": {
   "codemirror_mode": {
    "name": "ipython",
    "version": 3
   },
   "file_extension": ".py",
   "mimetype": "text/x-python",
   "name": "python",
   "nbconvert_exporter": "python",
   "pygments_lexer": "ipython3",
   "version": "3.7.0"
  }
 },
 "nbformat": 4,
 "nbformat_minor": 2
}
